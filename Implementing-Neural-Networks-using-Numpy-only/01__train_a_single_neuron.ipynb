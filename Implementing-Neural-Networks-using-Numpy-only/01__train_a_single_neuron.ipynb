{
 "cells": [
  {
   "cell_type": "code",
   "execution_count": 9,
   "id": "aa8f3e9d",
   "metadata": {},
   "outputs": [],
   "source": [
    "import numpy as np"
   ]
  },
  {
   "cell_type": "code",
   "execution_count": 10,
   "id": "76ce939f",
   "metadata": {},
   "outputs": [],
   "source": [
    "inputs = [1, \n",
    "          2, \n",
    "          3, \n",
    "          2.5]\n",
    "\n",
    "weights = [[0.2, 0.8, -0.5, 1.0],\n",
    "          [0.5, -0.91, 0.26, -0.5],\n",
    "          [-0.26, -0.27, 0.17, 0.87]]\n",
    "\n",
    "biases = [2, 3, 0.5]\n",
    "\n",
    "# layer_output = [l1, l2, l3]\n",
    "# l1 -> ip*w1 + b, l2 -> ip*w2 + b, l3 -> ip*w3 + b"
   ]
  },
  {
   "cell_type": "code",
   "execution_count": 11,
   "id": "eb444c90",
   "metadata": {},
   "outputs": [
    {
     "name": "stdout",
     "output_type": "stream",
     "text": [
      "[4.8, 1.21, 2.385]\n"
     ]
    }
   ],
   "source": [
    "layer_output = []\n",
    "\n",
    "for neuron_weights, neuron_bias in zip(weights, biases):\n",
    "    neuron_output = 0\n",
    "    for i in range(len(inputs)):\n",
    "        neuron_output+=inputs[i]*neuron_weights[i]\n",
    "    neuron_output+=neuron_bias\n",
    "    layer_output.append(neuron_output)\n",
    "\n",
    "print(layer_output)"
   ]
  },
  {
   "cell_type": "code",
   "execution_count": 12,
   "id": "1f448153",
   "metadata": {},
   "outputs": [],
   "source": [
    "#tensor is an object that can be represented as an array"
   ]
  },
  {
   "cell_type": "code",
   "execution_count": 5,
   "id": "44fc15a1",
   "metadata": {},
   "outputs": [
    {
     "name": "stdout",
     "output_type": "stream",
     "text": [
      "[4.8   1.21  2.385]\n"
     ]
    }
   ],
   "source": [
    "layer_output = np.dot(weights, inputs) + biases\n",
    "print(layer_output)"
   ]
  },
  {
   "cell_type": "code",
   "execution_count": 6,
   "id": "008bd6e2",
   "metadata": {},
   "outputs": [
    {
     "ename": "ValueError",
     "evalue": "shapes (4,) and (3,4) not aligned: 4 (dim 0) != 3 (dim 0)",
     "output_type": "error",
     "traceback": [
      "\u001b[1;31m---------------------------------------------------------------------------\u001b[0m",
      "\u001b[1;31mValueError\u001b[0m                                Traceback (most recent call last)",
      "Cell \u001b[1;32mIn[6], line 1\u001b[0m\n\u001b[1;32m----> 1\u001b[0m layer_output \u001b[38;5;241m=\u001b[39m np\u001b[38;5;241m.\u001b[39mdot(inputs, weights) \u001b[38;5;241m+\u001b[39m biases\n\u001b[0;32m      2\u001b[0m \u001b[38;5;28mprint\u001b[39m(layer_output)\n",
      "File \u001b[1;32m<__array_function__ internals>:200\u001b[0m, in \u001b[0;36mdot\u001b[1;34m(*args, **kwargs)\u001b[0m\n",
      "\u001b[1;31mValueError\u001b[0m: shapes (4,) and (3,4) not aligned: 4 (dim 0) != 3 (dim 0)"
     ]
    }
   ],
   "source": [
    "layer_output = np.dot(inputs, weights) + biases\n",
    "print(layer_output)\n",
    "#the ERROR\n",
    "# In a dot product operation, the number of columns in the first array must match the number of rows in the second array. \n",
    "# Here, inputs has 4 elements and weights has 3 rows and 4 columns, leading to the error.\n",
    "# weights(3, 4)\n",
    "# inputs (4, )"
   ]
  },
  {
   "cell_type": "code",
   "execution_count": 16,
   "id": "99277530",
   "metadata": {},
   "outputs": [
    {
     "name": "stdout",
     "output_type": "stream",
     "text": [
      "[4.8   1.21  2.385]\n"
     ]
    }
   ],
   "source": [
    "weights = np.array(weights)\n",
    "layer_output = np.dot(inputs, weights.T) + biases\n",
    "print(layer_output)\n",
    "#the ERROR\n",
    "# In a dot product operation, the number of columns in the first array must match the number of rows in the second array. \n",
    "# Here, inputs has 4 elements and weights has 3 rows and 4 columns, leading to the error.\n",
    "# weights(3, 4)\n",
    "# inputs (4, )"
   ]
  },
  {
   "cell_type": "code",
   "execution_count": null,
   "id": "43d76c77",
   "metadata": {},
   "outputs": [],
   "source": []
  }
 ],
 "metadata": {
  "kernelspec": {
   "display_name": "Python 3 (ipykernel)",
   "language": "python",
   "name": "python3"
  },
  "language_info": {
   "codemirror_mode": {
    "name": "ipython",
    "version": 3
   },
   "file_extension": ".py",
   "mimetype": "text/x-python",
   "name": "python",
   "nbconvert_exporter": "python",
   "pygments_lexer": "ipython3",
   "version": "3.11.5"
  }
 },
 "nbformat": 4,
 "nbformat_minor": 5
}
