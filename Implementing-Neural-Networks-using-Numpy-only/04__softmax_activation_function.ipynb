{
 "cells": [
  {
   "cell_type": "markdown",
   "id": "76a4cd11",
   "metadata": {},
   "source": [
    "# Softmax Activation Function"
   ]
  },
  {
   "cell_type": "code",
   "execution_count": 1,
   "id": "feae2dc6",
   "metadata": {},
   "outputs": [],
   "source": [
    "import math\n",
    "import numpy as np"
   ]
  },
  {
   "cell_type": "code",
   "execution_count": 2,
   "id": "136a9d88",
   "metadata": {},
   "outputs": [],
   "source": [
    "layer_output = [[4.8, 1.21, 2.385],\n",
    "               [8.9, -1.81, 0.2],\n",
    "               [1.41, 1.051, 0.026]]\n",
    "# without using numpy\n",
    "# E = math.e\n",
    "\n",
    "# exp_values = []\n",
    "\n",
    "# for output in layer_output:\n",
    "#     exp_values.append(E**output)\n",
    "    \n",
    "# print(exp_values)\n",
    "\n",
    "# norm_base = sum(exp_values)\n",
    "# norm_values = []\n",
    "\n",
    "# for value in exp_values:\n",
    "#     norm_values.append(value/norm_base)\n",
    "\n",
    "# print(norm_values)"
   ]
  },
  {
   "cell_type": "markdown",
   "id": "5f42ec0c",
   "metadata": {},
   "source": [
    "# using numpy:"
   ]
  },
  {
   "cell_type": "code",
   "execution_count": 3,
   "id": "c7b4d8b5",
   "metadata": {},
   "outputs": [],
   "source": [
    "# for single layer inputs\n",
    "# exp_values = np.exp(layer_output)\n",
    "# norm_values = exp_values/np.sum(exp_values)\n",
    "# print(exp_values)\n",
    "# print()\n",
    "# print(norm_values)"
   ]
  },
  {
   "cell_type": "code",
   "execution_count": 4,
   "id": "c9301d41",
   "metadata": {},
   "outputs": [
    {
     "name": "stdout",
     "output_type": "stream",
     "text": [
      "[[8.395]\n",
      " [7.29 ]\n",
      " [2.487]]\n",
      "[[8.95282664e-01 2.47083068e-02 8.00090293e-02]\n",
      " [9.99811129e-01 2.23163963e-05 1.66554348e-04]\n",
      " [5.13097164e-01 3.58333899e-01 1.28568936e-01]]\n"
     ]
    }
   ],
   "source": [
    "# for batch of inputs:\n",
    "\n",
    "exp_values = np.exp(layer_output)\n",
    "# print(exp_values)\n",
    "\n",
    "print(np.sum(layer_output, axis=1, keepdims=True)) # axis = 1 will sum row wise # keepdims to keep the dimension same as inputs\n",
    "# otherwise the answer would [[8.395],[7.29],[2.487]]\n",
    "norm_values = exp_values/np.sum(exp_values, axis=1, keepdims=True)\n",
    "print(norm_values)"
   ]
  },
  {
   "cell_type": "markdown",
   "id": "c734d7ef",
   "metadata": {},
   "source": [
    "## Merging all things till now what we done:\n"
   ]
  },
  {
   "cell_type": "code",
   "execution_count": 5,
   "id": "231ee101",
   "metadata": {},
   "outputs": [],
   "source": [
    "class Layer_Dense:\n",
    "    def __init__(self, n_inputs, n_neurons):\n",
    "        self.weights = 0.10*np.random.randn(n_inputs, n_neurons)\n",
    "        self.biases = np.zeros((1, n_neurons))\n",
    "    def forward(self, inputs):\n",
    "        self.output = np.dot(inputs, self.weights) + self.biases"
   ]
  },
  {
   "cell_type": "code",
   "execution_count": 7,
   "id": "443028c2",
   "metadata": {},
   "outputs": [
    {
     "name": "stdout",
     "output_type": "stream",
     "text": [
      "[[4.8   1.21  2.385]\n",
      " [8.9   0.    0.2  ]\n",
      " [1.41  1.051 0.026]]\n"
     ]
    }
   ],
   "source": [
    "class Activation_ReLU:\n",
    "    def forward(self, inputs):\n",
    "        self.output = np.maximum(0, inputs) \n",
    "\n",
    "#without using numpy:\n",
    "# for i in inputs:\n",
    "#     output.append(max(0, i))\n",
    "# print(output)\n",
    "\n",
    "layer_1 = Activation_ReLU()\n",
    "layer_1.forward(layer_output)\n",
    "print(layer_1.output)"
   ]
  },
  {
   "cell_type": "code",
   "execution_count": 8,
   "id": "c2dce4fa",
   "metadata": {},
   "outputs": [],
   "source": [
    "class Activation_Softmax:\n",
    "    def forward(self, inputs):\n",
    "        exp_values = np.exp(inputs - np.max(inputs, axis=1, keepdims=True))\n",
    "        probabilities = exp_values / np.sum(exp_values, axis=1, keepdims=True)\n",
    "        self.output = probabilities"
   ]
  },
  {
   "cell_type": "code",
   "execution_count": 9,
   "id": "8f1b6700",
   "metadata": {},
   "outputs": [],
   "source": [
    "# we will use data of spiral data\n",
    "def create_data(samples, classes):\n",
    "    X = np.zeros((samples*classes, 2))\n",
    "    y = np.zeros(samples*classes, dtype='uint8')\n",
    "    for class_number in range(classes):\n",
    "        ix = range(samples*class_number, samples*(class_number+1))\n",
    "        r = np.linspace(0.0, 1, samples)\n",
    "        t = np.linspace(class_number*4, (class_number+1)*4, samples) + np.random.randn(samples)*0.2\n",
    "        X[ix] = np.c_[r*np.sin(t*2.5), r*np.cos(t*2.5)]\n",
    "        y[ix] = class_number\n",
    "    return X, y"
   ]
  },
  {
   "cell_type": "code",
   "execution_count": 10,
   "id": "765bd1c6",
   "metadata": {},
   "outputs": [
    {
     "name": "stdout",
     "output_type": "stream",
     "text": [
      "[[0.33333333 0.33333333 0.33333333]\n",
      " [0.33324608 0.33335531 0.33339861]\n",
      " [0.33315841 0.33337755 0.33346404]\n",
      " [0.33313155 0.33337857 0.33348988]\n",
      " [0.33300008 0.33341673 0.33358319]]\n"
     ]
    }
   ],
   "source": [
    "X, y = create_data(samples=100, classes=3)\n",
    "dense1 = Layer_Dense(2,3)\n",
    "activation1 = Activation_ReLU()\n",
    "\n",
    "dense2 = Layer_Dense(3, 3)\n",
    "activation2 = Activation_Softmax()\n",
    "\n",
    "dense1.forward(X)\n",
    "activation1.forward(dense1.output)\n",
    "\n",
    "dense2.forward(activation1.output)\n",
    "activation2.forward(dense2.output)\n",
    "\n",
    "print(activation2.output[:5])"
   ]
  },
  {
   "cell_type": "code",
   "execution_count": null,
   "id": "870ff16c",
   "metadata": {},
   "outputs": [],
   "source": []
  },
  {
   "cell_type": "code",
   "execution_count": null,
   "id": "93c3fc47",
   "metadata": {},
   "outputs": [],
   "source": []
  }
 ],
 "metadata": {
  "kernelspec": {
   "display_name": "Python 3 (ipykernel)",
   "language": "python",
   "name": "python3"
  },
  "language_info": {
   "codemirror_mode": {
    "name": "ipython",
    "version": 3
   },
   "file_extension": ".py",
   "mimetype": "text/x-python",
   "name": "python",
   "nbconvert_exporter": "python",
   "pygments_lexer": "ipython3",
   "version": "3.11.5"
  }
 },
 "nbformat": 4,
 "nbformat_minor": 5
}
