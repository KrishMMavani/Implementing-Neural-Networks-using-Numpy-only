{
 "cells": [
  {
   "cell_type": "code",
   "execution_count": 1,
   "id": "b3ac051d",
   "metadata": {},
   "outputs": [],
   "source": [
    "import numpy as np"
   ]
  },
  {
   "cell_type": "code",
   "execution_count": 7,
   "id": "92135cce",
   "metadata": {},
   "outputs": [
    {
     "name": "stdout",
     "output_type": "stream",
     "text": [
      "[[ 4.8    1.21   2.385]\n",
      " [ 8.9   -1.81   0.2  ]\n",
      " [ 1.41   1.051  0.026]]\n"
     ]
    }
   ],
   "source": [
    "inputs = [[1, 2, 3, 2.5],\n",
    "         [2.0, 5.0, -1.0, 2.0], \n",
    "         [-1.5, 2.7, 3.3, -0.8]]\n",
    "\n",
    "weights = [[0.2, 0.8, -0.5, 1.0],\n",
    "          [0.5, -0.91, 0.26, -0.5],\n",
    "          [-0.26, -0.27, 0.17, 0.87]]\n",
    "\n",
    "biases = [2, 3, 0.5]\n",
    "\n",
    "#layer_output = np.dot(weights, inputs) + biases\n",
    "# print(layer_output)\n",
    "\n",
    "# we have to do transpose of weights for discarding the shape error\n",
    "# what we do is --> 1*0.2 + 2*-0.8 + 3*-0.5 + 2.5*1.0 and so on and for that, we have to show weights as 4 cross 3 matrix\n",
    "\n",
    "layer_output = np.dot(inputs, np.array(weights).T) + biases\n",
    "print(layer_output)"
   ]
  },
  {
   "cell_type": "code",
   "execution_count": 15,
   "id": "0c6fd9e2",
   "metadata": {},
   "outputs": [
    {
     "name": "stdout",
     "output_type": "stream",
     "text": [
      "[[ 4.8    1.21   2.385]\n",
      " [ 8.9   -1.81   0.2  ]\n",
      " [ 1.41   1.051  0.026]]\n",
      "\n",
      "[[ 0.5031  -1.04185 -2.03875]\n",
      " [ 0.2434  -2.7332  -5.7633 ]\n",
      " [-0.99314  1.41254 -0.35655]]\n"
     ]
    }
   ],
   "source": [
    "# now, let us create another layer of NN :- \n",
    "inputs = [[1, 2, 3, 2.5],\n",
    "         [2.0, 5.0, -1.0, 2.0], \n",
    "         [-1.5, 2.7, 3.3, -0.8]]\n",
    "\n",
    "weights1 = [[0.2, 0.8, -0.5, 1.0],\n",
    "          [0.5, -0.91, 0.26, -0.5],\n",
    "          [-0.26, -0.27, 0.17, 0.87]]\n",
    "\n",
    "biases1 = [2, 3, 0.5]\n",
    "\n",
    "weights2 = [[0.1, -0.14, 0.5],\n",
    "          [-0.5, 0.12, -0.33],\n",
    "          [-0.44, 0.73, -0.13]]\n",
    "\n",
    "biases2 = [-1, 2, -0.5]\n",
    "\n",
    "layer1_output = np.dot(inputs, np.array(weights1).T) + biases1\n",
    "print(layer1_output)\n",
    "\n",
    "print()\n",
    "\n",
    "layer2_output = np.dot(layer1_output, np.array(weights2).T) + biases2\n",
    "print(layer2_output)\n"
   ]
  },
  {
   "cell_type": "code",
   "execution_count": 16,
   "id": "f31f0564",
   "metadata": {},
   "outputs": [],
   "source": [
    "# let's make class and use the function:"
   ]
  },
  {
   "cell_type": "code",
   "execution_count": 19,
   "id": "4a369c0a",
   "metadata": {},
   "outputs": [],
   "source": [
    "X = [[1, 2, 3, 2.5],\n",
    "         [2.0, 5.0, -1.0, 2.0], \n",
    "         [-1.5, 2.7, 3.3, -0.8]]\n",
    "\n",
    "class Layer_Dense:\n",
    "    def __init__(self, n_inputs, n_neurons):\n",
    "        self.weights = 0.10*np.random.randn(n_inputs, n_neurons)\n",
    "        self.biases = np.zeros((1, n_neurons))\n",
    "    def forward(self, inputs):\n",
    "        self.output = np.dot(inputs, self.weights) + self.biases"
   ]
  },
  {
   "cell_type": "code",
   "execution_count": 20,
   "id": "6cd31ad3",
   "metadata": {},
   "outputs": [
    {
     "name": "stdout",
     "output_type": "stream",
     "text": [
      "[[ 0.90109867 -0.16422701  0.59261761 -0.20015804  0.19207417]\n",
      " [ 0.51679129 -1.0998315   0.75652568  0.46216772  0.7974058 ]\n",
      " [ 0.0276664   0.00444699  0.56286606 -0.38161016 -0.53497966]]\n",
      "[[-0.06705399  0.04733101]\n",
      " [-0.08179212 -0.01586111]\n",
      " [-0.03396045 -0.01950209]]\n"
     ]
    }
   ],
   "source": [
    "layer_1 = Layer_Dense(4, 5)\n",
    "layer_2 = Layer_Dense(5, 2)\n",
    "\n",
    "layer_1.forward(X)\n",
    "print(layer_1.output)\n",
    "layer_2.forward(layer_1.output)\n",
    "print(layer_2.output)"
   ]
  },
  {
   "cell_type": "code",
   "execution_count": null,
   "id": "4e3e7077",
   "metadata": {},
   "outputs": [],
   "source": []
  }
 ],
 "metadata": {
  "kernelspec": {
   "display_name": "Python 3 (ipykernel)",
   "language": "python",
   "name": "python3"
  },
  "language_info": {
   "codemirror_mode": {
    "name": "ipython",
    "version": 3
   },
   "file_extension": ".py",
   "mimetype": "text/x-python",
   "name": "python",
   "nbconvert_exporter": "python",
   "pygments_lexer": "ipython3",
   "version": "3.11.5"
  }
 },
 "nbformat": 4,
 "nbformat_minor": 5
}
